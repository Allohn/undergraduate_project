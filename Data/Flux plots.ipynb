{
 "cells": [
  {
   "cell_type": "code",
   "execution_count": null,
   "id": "b0b24107",
   "metadata": {},
   "outputs": [],
   "source": [
    "import random as rng, numpy as np\n",
    "from scipy.optimize import curve_fit \n",
    "from matplotlib import pyplot as plt\n",
    "from matplotlib.ticker import MaxNLocator\n",
    "from scipy.special import kn\n",
    "\n",
    "plt.rcParams['figure.figsize'] = [10, 10]"
   ]
  },
  {
   "cell_type": "code",
   "execution_count": null,
   "id": "b853ce2a",
   "metadata": {},
   "outputs": [],
   "source": [
    "energy, Wenergy, computed_flux = np.loadtxt(\"pPb_lhc.txt\", usecols=(1,2,3), unpack=True)"
   ]
  },
  {
   "cell_type": "code",
   "execution_count": null,
   "id": "c18c2906",
   "metadata": {},
   "outputs": [],
   "source": [
    "scaled_flux = []\n",
    "for i in range(len(energy)):\n",
    "    scaled_flux.append(computed_flux[i] g_energy[i])"
   ]
  },
  {
   "cell_type": "code",
   "execution_count": null,
   "id": "76571d33",
   "metadata": {
    "scrolled": true
   },
   "outputs": [],
   "source": [
    "plt.scatter(energy, computed_flux)\n",
    "#plt.scatter(energy, scaled_flux)\n",
    "plt.xlim(-10,600)\n",
    "#plt.xscale(\"log\")\n",
    "#plt.yscale(\"log\")"
   ]
  },
  {
   "cell_type": "markdown",
   "id": "cf540d78",
   "metadata": {},
   "source": [
    "Now let's try plotting $n_A (w)$"
   ]
  },
  {
   "cell_type": "code",
   "execution_count": null,
   "id": "72e60927",
   "metadata": {},
   "outputs": [],
   "source": [
    "#First Define Constants in spectrum formula\n",
    "Z = 82\n",
    "aem = 1/137\n",
    "gamma = 1570\n",
    "v = np.sqrt((gamma**2 -1) / gamma**2)\n",
    "Ra = (1.2 * 10**(-15)) * (207)**(1/3)\n",
    "bmin = 2 * Ra"
   ]
  },
  {
   "cell_type": "code",
   "execution_count": null,
   "id": "3fc19c70",
   "metadata": {},
   "outputs": [],
   "source": [
    "def photon_spectrum(w):\n",
    "    zeta = (w * bmin) / (gamma * v)\n",
    "    return ((2 * aem * Z**2) / np.pi) * (zeta * kn(0, zeta) * kn(1, zeta) - (zeta**2 / 2) * (kn(1, zeta)**2 - kn(0, zeta)**2))"
   ]
  },
  {
   "cell_type": "code",
   "execution_count": null,
   "id": "22955cc2",
   "metadata": {},
   "outputs": [],
   "source": [
    "spectrum = []\n",
    "for i in energy:\n",
    "    spectrum.append(photon_spectrum(i))"
   ]
  },
  {
   "cell_type": "code",
   "execution_count": null,
   "id": "38c0c5ed",
   "metadata": {},
   "outputs": [],
   "source": [
    "figure, axis = plt.subplots(2,1)\n",
    "axis[0].plot(energy, spectrum)\n",
    "axis[0].plot(energy, computed_flux,\"r.\")\n",
    "axis[1].plot(energy, computed_flux, \".\")\n",
    "#plt.plot(energy, computed_flux, \".\")"
   ]
  },
  {
   "cell_type": "code",
   "execution_count": null,
   "id": "35cb9afc",
   "metadata": {},
   "outputs": [],
   "source": []
  }
 ],
 "metadata": {
  "kernelspec": {
   "display_name": "Python 3.10.6 64-bit",
   "language": "python",
   "name": "python3"
  },
  "language_info": {
   "codemirror_mode": {
    "name": "ipython",
    "version": 3
   },
   "file_extension": ".py",
   "mimetype": "text/x-python",
   "name": "python",
   "nbconvert_exporter": "python",
   "pygments_lexer": "ipython3",
   "version": "3.10.6"
  },
  "vscode": {
   "interpreter": {
    "hash": "e7370f93d1d0cde622a1f8e1c04877d8463912d04d973331ad4851f04de6915a"
   }
  }
 },
 "nbformat": 4,
 "nbformat_minor": 5
}
